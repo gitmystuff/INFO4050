{
 "cells": [
  {
   "cell_type": "markdown",
   "id": "41c9a5d1",
   "metadata": {},
   "source": [
    "## Assignment Two\n",
    "\n",
    "### Importing Data\n",
    "\n",
    "Below are a few examples of importing data. \n",
    "\n",
    "* Using the examples, import three different datasets, one from sklearn.datasets, one from seaborn.load_dataset, and one from pd.read_csv\n",
    "* Print the shape of each dataset\n",
    "* Show the information about the dataset using info()\n",
    "* Show the first five rows of each dataset"
   ]
  },
  {
   "cell_type": "code",
   "execution_count": null,
   "id": "6b8e5175",
   "metadata": {},
   "outputs": [],
   "source": [
    "# sklearn example\n",
    "import pandas as pd\n",
    "from sklearn.datasets import fetch_california_housing\n",
    "\n",
    "housing = fetch_california_housing()\n",
    "housing_df = pd.DataFrame(housing.data, columns=housing.feature_names)\n",
    "housing_df['MedHouseVal'] = housing.target\n",
    "print(housing_df.shape)\n",
    "print(housing_df.info())\n",
    "housing_df.head()\n"
   ]
  },
  {
   "cell_type": "code",
   "execution_count": null,
   "id": "eb00325c",
   "metadata": {},
   "outputs": [],
   "source": [
    "# seaborn example\n",
    "import seaborn as sns\n",
    "\n",
    "mpg = sns.load_dataset('mpg')\n",
    "print(mpg.shape)\n",
    "print(mpg.info())\n",
    "mpg.head()\n"
   ]
  },
  {
   "cell_type": "markdown",
   "id": "79fbba04",
   "metadata": {},
   "source": [
    "We want to make sure we are in the same folder that we are running this notebook in. If you've followed everything so far, you should be able to run the following code cell to mount Google Drive to Colab and then in the next couple of cells, use a combination of ls (display what's in your current working directory) and cd (change directory)."
   ]
  },
  {
   "cell_type": "code",
   "execution_count": null,
   "id": "699c6def",
   "metadata": {},
   "outputs": [],
   "source": [
    "# from google.colab import drive\n",
    "\n",
    "# drive.mount('/content/drive')\n",
    "# %cd /content/drive/MyDrive/INFO4050/\n",
    "# %pwd"
   ]
  },
  {
   "cell_type": "markdown",
   "id": "636e29f3",
   "metadata": {},
   "source": [
    "Hopefully, you see something like `/content/drive/MyDrive/INFO4050/` as output for the previous cell where you mounted your drive. Run the next cell and see what directories are possible. The command ls, lists what's in your current directory, and open the link to see what % means. \n",
    "\n",
    "https://colab.research.google.com/github/jakevdp/PythonDataScienceHandbook/blob/master/notebooks/01.03-Magic-Commands.ipynb"
   ]
  },
  {
   "cell_type": "code",
   "execution_count": null,
   "id": "79495847",
   "metadata": {},
   "outputs": [],
   "source": [
    "# %ls"
   ]
  },
  {
   "cell_type": "markdown",
   "id": "8d6d52a0",
   "metadata": {},
   "source": [
    "Run the next cell to change directory into the directory you are working in. The command cd means to change directory."
   ]
  },
  {
   "cell_type": "code",
   "execution_count": null,
   "id": "d941476d",
   "metadata": {},
   "outputs": [],
   "source": [
    "# %cd "
   ]
  },
  {
   "cell_type": "code",
   "execution_count": null,
   "id": "a05c7d33",
   "metadata": {},
   "outputs": [],
   "source": [
    "# csv example\n",
    "import pandas as pd\n",
    "\n",
    "retail = pd.read_csv('Retail_Data.csv')\n",
    "print(retail.shape)\n",
    "print(retail.info())\n",
    "retail.head()"
   ]
  }
 ],
 "metadata": {
  "kernelspec": {
   "display_name": "Python 3 (ipykernel)",
   "language": "python",
   "name": "python3"
  },
  "language_info": {
   "codemirror_mode": {
    "name": "ipython",
    "version": 3
   },
   "file_extension": ".py",
   "mimetype": "text/x-python",
   "name": "python",
   "nbconvert_exporter": "python",
   "pygments_lexer": "ipython3",
   "version": "3.9.7"
  }
 },
 "nbformat": 4,
 "nbformat_minor": 5
}
