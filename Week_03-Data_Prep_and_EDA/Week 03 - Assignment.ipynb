{
 "cells": [
  {
   "cell_type": "markdown",
   "id": "d77a5076",
   "metadata": {},
   "source": [
    "# Week 03 - Assignment\n",
    "\n",
    "* Find a dataset with a continuous (numerical) dependent variable used for linear regression\n",
    "* The dataset must have more than 4 variables including dependent variable\n",
    "* Feel free to use a dataset from Week 2's assignment\n",
    "* Feel free to use one of these Seaborn datasets (the dependent variable is in parantheses)\n",
    "    * mpg (mpg)\n",
    "    * diamonds (price)\n",
    "* From sklearn\n",
    "    * California Housing (target or can be named MedHouseVal)\n",
    "    * Diabetes (target or can be named progression)\n",
    "* There are some datasets in our class repository\n",
    "    * Advertising (sales)\n",
    "    * house-prices (SalePrice)"
   ]
  },
  {
   "cell_type": "code",
   "execution_count": null,
   "id": "aad6958d",
   "metadata": {},
   "outputs": [],
   "source": [
    "# import dataset and print shape, info, and head()"
   ]
  },
  {
   "cell_type": "code",
   "execution_count": null,
   "id": "bc9fc8e8",
   "metadata": {},
   "outputs": [],
   "source": [
    "# split the dataset into train test split and print X_train shape and X_test shape"
   ]
  },
  {
   "cell_type": "code",
   "execution_count": null,
   "id": "b6206ef1",
   "metadata": {},
   "outputs": [],
   "source": [
    "# are there missing values?"
   ]
  },
  {
   "cell_type": "code",
   "execution_count": null,
   "id": "f5ff3aea",
   "metadata": {},
   "outputs": [],
   "source": [
    "# describe X_train"
   ]
  },
  {
   "cell_type": "code",
   "execution_count": null,
   "id": "9f55b4b9",
   "metadata": {},
   "outputs": [],
   "source": [
    "# show histograms of at least three numerical variables, make a comment if they look normal or skewed"
   ]
  },
  {
   "cell_type": "code",
   "execution_count": null,
   "id": "65e6b8e1",
   "metadata": {},
   "outputs": [],
   "source": [
    "# show a correlation heat map of the numerical variables in X_train"
   ]
  },
  {
   "cell_type": "code",
   "execution_count": null,
   "id": "4fb0ce30",
   "metadata": {},
   "outputs": [],
   "source": [
    "# show a chart using X_train.corrwith(y_train).plot.bar"
   ]
  }
 ],
 "metadata": {
  "kernelspec": {
   "display_name": "Python 3 (ipykernel)",
   "language": "python",
   "name": "python3"
  },
  "language_info": {
   "codemirror_mode": {
    "name": "ipython",
    "version": 3
   },
   "file_extension": ".py",
   "mimetype": "text/x-python",
   "name": "python",
   "nbconvert_exporter": "python",
   "pygments_lexer": "ipython3",
   "version": "3.9.7"
  }
 },
 "nbformat": 4,
 "nbformat_minor": 5
}
