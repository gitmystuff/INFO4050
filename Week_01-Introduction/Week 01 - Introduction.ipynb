{
 "cells": [
  {
   "cell_type": "markdown",
   "id": "1447dd83",
   "metadata": {},
   "source": [
    "# Week 1 - Introduction\n",
    "\n",
    "## Data\n",
    "\n",
    "From Wikipedia (https://en.m.wikipedia.org/wiki/Data):\n",
    "* A set of values of qualitative or quantitative variables about one or more persons or objects\n",
    "* A datum (singular of data) is a single value of a single variable\n",
    "* Although the terms \"data\" and \"information\" are often used interchangeably, data are sometimes said to be transformed into information when they are viewed in context or in post-analysis\n",
    "* Data are measured, collected, reported, and analyzed, and used to create data visualizations such as graphs, tables or images\n",
    "* Data as a general concept refers to the fact that some existing information or knowledge is represented or coded in some form suitable for better usage or processing"
   ]
  },
  {
   "cell_type": "markdown",
   "id": "6d20ec3c",
   "metadata": {},
   "source": [
    "## Science\n",
    "\n",
    "From Wikipedia (https://en.m.wikipedia.org/wiki/Science):\n",
    "* Modern science is commonly divided into three major branches: natural science, social science, and formal science\n",
    "* Logic, mathematics, statistics, and computer science are listed under formal science\n",
    "* Formal science is an area of study that generates knowledge using formal systems\n",
    "* Formal science is a priori, knowledge which is independent of experience\n",
    "* Scientific method involves using the scientific method, which seeks to objectively explain the events of nature in a reproducible way\n",
    "* The problem, hypothesis, train (lit review), test, analyze, report"
   ]
  },
  {
   "cell_type": "markdown",
   "id": "dcaa9c60",
   "metadata": {},
   "source": [
    "## Data Science\n",
    "\n",
    "From Wikipedia(https://en.m.wikipedia.org/wiki/Data_science):\n",
    "* Data science is an interdisciplinary field that uses scientific methods, processes, algorithms and systems to extract knowledge and insights from noisy, structured and unstructured data, and apply knowledge and actionable insights from data across a broad range of application domains"
   ]
  },
  {
   "cell_type": "markdown",
   "id": "6d0af2a1",
   "metadata": {},
   "source": [
    "## Domain\n",
    "* Data Analysis\n",
    "* Machine Learning\n",
    "* Artificial Intelligence\n",
    "* Math\n",
    "* Statistics\n",
    "* Computer Science\n",
    "* Information Technology\n",
    "* Business Knowledge"
   ]
  },
  {
   "cell_type": "markdown",
   "id": "0f4793e2",
   "metadata": {},
   "source": [
    "## Top Ten Lists\n",
    "\n",
    "https://www.kdnuggets.com/2020/08/top-10-lists-data-science.html"
   ]
  },
  {
   "cell_type": "markdown",
   "id": "3c727ab1",
   "metadata": {},
   "source": [
    "## Some Tools\n",
    "\n",
    "* R\n",
    "* SPSS\n",
    "* SAS\n",
    "* Excel\n",
    "* Power BI\n",
    "* Tableau\n",
    "* Python (Colab)\n",
    "* SQL"
   ]
  },
  {
   "cell_type": "markdown",
   "id": "00bfba26",
   "metadata": {},
   "source": [
    "## Statistical Learning vs Machine Learning\n",
    "\n",
    "<table>\n",
    "<tr>\n",
    "<th style='text-align: left;'>Statistical Learning</th>\n",
    "<th style='text-align: left;'>Machine Learning</th>\n",
    "</tr>\n",
    "<tr>\n",
    "<td style='text-align: left;'>\n",
    "<ul>\n",
    "<li>Statistical significance / tests</li>\n",
    "<li>Strong explanatory power</li>\n",
    "<li>ANOVA, t-test</li>\n",
    "<li>Model diagnostics, model building </li>\n",
    "<li>Model selection (forward selection, backward selection, stepwise selection)</li>\n",
    "<li>Evaluation (AIC, BIC)</li>\n",
    "<li>Standard transformations (e.g. Box-Cox)</li>\n",
    "<li>Residual analysis</li>\n",
    "<li>Generalized linear models (GLM)</li>\n",
    "<li>Longitudinal data, time series</li>\n",
    "<li>Experimental design</li>\n",
    "<li>Covariates, predictors, outcomes, independent / dependent variables</li>\n",
    "<li>Normal distribution</li>\n",
    "<li>Interpretation</li>\n",
    "<li>Regression Analysis </li>           \n",
    "</td>    \n",
    "<td style='text-align: left;'>\n",
    "<li>Loss function</li>\n",
    "<li>Minimizing the loss function</li>\n",
    "<li>Train and test sets</li>\n",
    "<li>High predictive accuracy</li>\n",
    "<li>Hyperparameters, generalization, overfitting, regularization</li>\n",
    "<li>Inputs and outputs (targets)</li>\n",
    "<li>Gaussian distribution</li>\n",
    "<li>Implementation</li>\n",
    "<li>Linear Regression</li>\n",
    "<li>Calculus</li>\n",
    "<li>Python</li>\n",
    "<li>Linear algebra (vectors, matrices)</li>\n",
    "<li>Probability</li>         \n",
    "</td>\n",
    "</tr>\n",
    "</table>"
   ]
  },
  {
   "cell_type": "markdown",
   "id": "b5cfbc70",
   "metadata": {},
   "source": [
    "## Data Science Process\n",
    "* Understanding the problem and getting the data\n",
    "* Data preparation and exploratory data analysis\n",
    "* Feature engineering\n",
    "* Feature selection\n",
    "* Model selection\n",
    "* Model training\n",
    "* Model testing\n",
    "* Model tuning\n",
    "* Reporting"
   ]
  },
  {
   "cell_type": "markdown",
   "id": "ca41d84c",
   "metadata": {},
   "source": [
    "## Questions\n",
    "\n",
    "* https://towardsdatascience.com/i-worked-through-500-data-science-interview-questions-51e2e4dead9d \n",
    "* https://towardsdatascience.com/five-data-science-interview-questions-that-you-must-be-able-to-answer-8f2ec53b409a \n",
    "* https://medium.com/dataman-in-ai/top-data-science-interview-questions-and-answers-b1395fc2e1e4 "
   ]
  },
  {
   "cell_type": "markdown",
   "id": "b05301f5",
   "metadata": {},
   "source": [
    "## Chance\n",
    "\n",
    "You run a record label where A&R department is responsible for predicting whether albums by new artists will be hits or flops. For new artist hits, the A&R dept correctly predicts the hit 80% of the time. Unfortunately, when the new artist flops, the A&R department will predict a hit 30% of the time. You know that debut albums will turn out to be hits just 10% of the time. The rest of the debut albums will be flops. If your A&R dept predicts a hit, what is the probability that it will be a hit?\n",
    "\n",
    "(.8 * .1)/(.8 * .1)+(.1 * .9) = .08/.35\n",
    "\n",
    "## Regression to the Mean\n",
    "\n",
    "Any extraordinary event will most likely be followed by an event resembling the norm.\n",
    "\n",
    "## Bias\n",
    "\n",
    "How many planets are in our solar system?"
   ]
  },
  {
   "cell_type": "markdown",
   "id": "02e8c4d6",
   "metadata": {},
   "source": [
    "## Statistics\n",
    "\n",
    "### Short History\n",
    "\n",
    "* 1700s: the systematic collection of demographics and economic data (census and gdp)\n",
    "* 1800s: statistics broadened to the discipline concerned with the collection, summary, and analysis of data\n",
    "* Graunt and Petty (1662): produced the first life table, giving probabilities of survival to each age... using analysis of the mortality rolls to make the first statistically based estimation of the population of London. He knew that there were around 13,000 funerals per year in London and that three people died per eleven families per year. He estimated from the parish records that the average family size was 8 and calculated that the population of London was about 384,000; this is the first known use of a ratio estimator. \n",
    "* Laplace in 1802 estimated the population of France with a similar method; see Ratio estimator § History for details. Laplace (1774) is also credited for the fame of Bayes (1702 - 1761) as well as using a curve to show normal probabilities \n",
    "* Lagrange (1781) suggests two more probabilites for errors, a raised cosine and a logarithmic distribution\n",
    "* Bernoulli (1778): a system of concurrent errors\n",
    "* Gauss (1809): method of least squares (behind Legendre, 1805 and Adrain, 1808)\n",
    "* Bessel (1815): median deviation from the mean\n",
    "* Galton, Pearson, Fisher, Gosset (1900s): Modern Statistics\n",
    "* Data are dumb, great at quantities but not so good with causality\n",
    "* When the barometer falls, the probability of a storm increases, but forcing the barometer to fall does not increase the chances of a storm\n",
    "* The relationship between ice cream sales and shark bites\n",
    "* Data and models: Fitting a function onto a model, be cautious of interpreting data through a model blind lens, data is meaningless without context\n",
    "* Keynes, Ramsey, Savage, Beranardo, Turing are names associated with Bayesian Statistics\n",
    "* Path Analysis, Causal Inference, Knowledge Graphs, Semantic Web, and Artificial Intelligence\n",
    "\n",
    "https://en.wikipedia.org/wiki/History_of_statistics\n",
    "\n",
    "* Population\n",
    "* Sample\n",
    "    * Convenience\n",
    "    * Biased\n",
    "    * Random\n",
    "* Statistic\n",
    "* Feature Selection\n",
    "* Inference\n",
    "* Accuracy\n",
    "* Confidence Intervals\n",
    "* Normal Distributions and Extreme Values\n",
    "* Significance"
   ]
  },
  {
   "cell_type": "markdown",
   "id": "6d59397d",
   "metadata": {},
   "source": [
    "## Books Borrowed From\n",
    "\n",
    "* Everybody Lies: Big Data, New Data, and What the Internet Can Tell Us About Who We Really Are by Seth Stephens-Davidowitz\n",
    "* Naked Statistics: Stripping the Dread from the Data 1st Edition by Charles Wheelan\n",
    "* Weapons of Math Destruction: How Big Data Increases Inequality and Threatens Democracy by Cathy O'Neil \n",
    "* The Art of Statistics: How to Learn from Data by David Spiegelhalter\n",
    "* The Drunkard's Walk: How Randomness Rules Our Lives by Leonard Mlodinow, Sean Pratt, et al.\n",
    "* The Master Algorithm: How the Quest for the Ultimate Learning Machine Will Remake Our World by Pedro Domingos"
   ]
  },
  {
   "cell_type": "markdown",
   "id": "a0a936b9",
   "metadata": {},
   "source": [
    "## Jupyter / Colab / Class Repository\n",
    "\n",
    "### Jupyter\n",
    "\n",
    "* https://jupyter-notebook-beginner-guide.readthedocs.io/en/latest/what_is_jupyter.html \n",
    "* https://github.com/jupyter/jupyter/wiki/Jupyter-kernels https://jupyter-notebook.readthedocs.io/en/stable/examples/Notebook/Notebook%20Basics.html \n",
    "* https://realpython.com/jupyter-notebook-introduction/\n",
    "\n",
    "### Colab\n",
    "\n",
    "* https://www.tutorialspoint.com/google_colab/index.htm\n",
    "\n",
    "### Class Repository\n",
    "\n",
    "* https://github.com/gitmystuff/INFO4050"
   ]
  },
  {
   "cell_type": "markdown",
   "id": "5384bebd",
   "metadata": {},
   "source": [
    "## Mounting Colab to Google Drive\n",
    "\n",
    "https://medium.com/@ashwindesilva/how-to-use-google-colaboratory-to-clone-a-github-repository-e07cf8d3d22b\n",
    "\n",
    "**Do This Only Once**\n",
    "\n",
    "<pre>\n",
    "from google.colab import drive\n",
    "\n",
    "drive.mount('/content/drive')\n",
    "%cd /content/drive/MyDrive/\n",
    "\n",
    "! git clone https://github.com/gitmystuff/INFO4050.git\n",
    "</pre>\n",
    "\n",
    "See INFO4050 Colab Github Clone Instructions.ipynb"
   ]
  },
  {
   "cell_type": "markdown",
   "id": "93c82d6f",
   "metadata": {},
   "source": [
    "## Updating Repository\n",
    "\n",
    "**Do This Regularly to Update Your Content**\n",
    "\n",
    "<pre>\n",
    "from google.colab import drive\n",
    "\n",
    "drive.mount('/content/drive')\n",
    "%cd /content/drive/MyDrive/INFO4050/\n",
    "%pwd\n",
    "!git status\n",
    "!git commit -a -m \"Work completed for week ???\"\n",
    "!git pull\n",
    "</pre>\n",
    "\n",
    "See INFO4050 Colab Github Update Instructions.ipynb"
   ]
  },
  {
   "cell_type": "markdown",
   "id": "37bfae28",
   "metadata": {},
   "source": [
    "## Download Settings\n",
    "\n",
    "* Chrome settings\n",
    "* Downloads\n",
    "* Ask where to save..."
   ]
  },
  {
   "cell_type": "markdown",
   "id": "f2f1e74e",
   "metadata": {},
   "source": [
    "## Data Science Model Example"
   ]
  },
  {
   "cell_type": "code",
   "execution_count": 1,
   "id": "0df6975c",
   "metadata": {},
   "outputs": [],
   "source": [
    "# import the libraries\n",
    "import numpy as np\n",
    "import pandas as pd\n",
    "import matplotlib.pyplot as plt\n",
    "import seaborn as sns\n",
    "\n",
    "from sklearn.linear_model import LinearRegression\n",
    "from sklearn.metrics import mean_squared_error, r2_score\n",
    "from sklearn.model_selection import train_test_split\n",
    "\n",
    "%matplotlib inline"
   ]
  },
  {
   "cell_type": "code",
   "execution_count": 2,
   "id": "1521fe97",
   "metadata": {},
   "outputs": [
    {
     "data": {
      "text/html": [
       "<div>\n",
       "<style scoped>\n",
       "    .dataframe tbody tr th:only-of-type {\n",
       "        vertical-align: middle;\n",
       "    }\n",
       "\n",
       "    .dataframe tbody tr th {\n",
       "        vertical-align: top;\n",
       "    }\n",
       "\n",
       "    .dataframe thead th {\n",
       "        text-align: right;\n",
       "    }\n",
       "</style>\n",
       "<table border=\"1\" class=\"dataframe\">\n",
       "  <thead>\n",
       "    <tr style=\"text-align: right;\">\n",
       "      <th></th>\n",
       "      <th>TV</th>\n",
       "      <th>radio</th>\n",
       "      <th>newspaper</th>\n",
       "      <th>sales</th>\n",
       "    </tr>\n",
       "  </thead>\n",
       "  <tbody>\n",
       "    <tr>\n",
       "      <th>0</th>\n",
       "      <td>230.1</td>\n",
       "      <td>37.8</td>\n",
       "      <td>69.2</td>\n",
       "      <td>22.1</td>\n",
       "    </tr>\n",
       "    <tr>\n",
       "      <th>1</th>\n",
       "      <td>44.5</td>\n",
       "      <td>39.3</td>\n",
       "      <td>45.1</td>\n",
       "      <td>10.4</td>\n",
       "    </tr>\n",
       "    <tr>\n",
       "      <th>2</th>\n",
       "      <td>17.2</td>\n",
       "      <td>45.9</td>\n",
       "      <td>69.3</td>\n",
       "      <td>9.3</td>\n",
       "    </tr>\n",
       "    <tr>\n",
       "      <th>3</th>\n",
       "      <td>151.5</td>\n",
       "      <td>41.3</td>\n",
       "      <td>58.5</td>\n",
       "      <td>18.5</td>\n",
       "    </tr>\n",
       "    <tr>\n",
       "      <th>4</th>\n",
       "      <td>180.8</td>\n",
       "      <td>10.8</td>\n",
       "      <td>58.4</td>\n",
       "      <td>12.9</td>\n",
       "    </tr>\n",
       "  </tbody>\n",
       "</table>\n",
       "</div>"
      ],
      "text/plain": [
       "      TV  radio  newspaper  sales\n",
       "0  230.1   37.8       69.2   22.1\n",
       "1   44.5   39.3       45.1   10.4\n",
       "2   17.2   45.9       69.3    9.3\n",
       "3  151.5   41.3       58.5   18.5\n",
       "4  180.8   10.8       58.4   12.9"
      ]
     },
     "execution_count": 2,
     "metadata": {},
     "output_type": "execute_result"
    }
   ],
   "source": [
    "# get the data\n",
    "url = 'https://raw.githubusercontent.com/gitmystuff/INFO4050/main/Datasets/Advertising.csv'\n",
    "df = pd.read_csv(url, usecols=['TV', 'radio', 'newspaper', 'sales'])\n",
    "df.head()"
   ]
  },
  {
   "cell_type": "code",
   "execution_count": 3,
   "id": "64b331cb",
   "metadata": {},
   "outputs": [
    {
     "data": {
      "text/html": [
       "<div>\n",
       "<style scoped>\n",
       "    .dataframe tbody tr th:only-of-type {\n",
       "        vertical-align: middle;\n",
       "    }\n",
       "\n",
       "    .dataframe tbody tr th {\n",
       "        vertical-align: top;\n",
       "    }\n",
       "\n",
       "    .dataframe thead th {\n",
       "        text-align: right;\n",
       "    }\n",
       "</style>\n",
       "<table border=\"1\" class=\"dataframe\">\n",
       "  <thead>\n",
       "    <tr style=\"text-align: right;\">\n",
       "      <th></th>\n",
       "      <th>TV</th>\n",
       "      <th>radio</th>\n",
       "      <th>newspaper</th>\n",
       "      <th>sales</th>\n",
       "    </tr>\n",
       "  </thead>\n",
       "  <tbody>\n",
       "    <tr>\n",
       "      <th>0</th>\n",
       "      <td>230.1</td>\n",
       "      <td>37.8</td>\n",
       "      <td>69.2</td>\n",
       "      <td>22.1</td>\n",
       "    </tr>\n",
       "    <tr>\n",
       "      <th>1</th>\n",
       "      <td>44.5</td>\n",
       "      <td>39.3</td>\n",
       "      <td>45.1</td>\n",
       "      <td>10.4</td>\n",
       "    </tr>\n",
       "    <tr>\n",
       "      <th>2</th>\n",
       "      <td>17.2</td>\n",
       "      <td>45.9</td>\n",
       "      <td>69.3</td>\n",
       "      <td>9.3</td>\n",
       "    </tr>\n",
       "    <tr>\n",
       "      <th>3</th>\n",
       "      <td>151.5</td>\n",
       "      <td>41.3</td>\n",
       "      <td>58.5</td>\n",
       "      <td>18.5</td>\n",
       "    </tr>\n",
       "    <tr>\n",
       "      <th>4</th>\n",
       "      <td>180.8</td>\n",
       "      <td>10.8</td>\n",
       "      <td>58.4</td>\n",
       "      <td>12.9</td>\n",
       "    </tr>\n",
       "    <tr>\n",
       "      <th>5</th>\n",
       "      <td>8.7</td>\n",
       "      <td>48.9</td>\n",
       "      <td>75.0</td>\n",
       "      <td>7.2</td>\n",
       "    </tr>\n",
       "    <tr>\n",
       "      <th>6</th>\n",
       "      <td>57.5</td>\n",
       "      <td>32.8</td>\n",
       "      <td>23.5</td>\n",
       "      <td>11.8</td>\n",
       "    </tr>\n",
       "    <tr>\n",
       "      <th>7</th>\n",
       "      <td>120.2</td>\n",
       "      <td>19.6</td>\n",
       "      <td>11.6</td>\n",
       "      <td>13.2</td>\n",
       "    </tr>\n",
       "    <tr>\n",
       "      <th>8</th>\n",
       "      <td>8.6</td>\n",
       "      <td>2.1</td>\n",
       "      <td>1.0</td>\n",
       "      <td>4.8</td>\n",
       "    </tr>\n",
       "    <tr>\n",
       "      <th>9</th>\n",
       "      <td>199.8</td>\n",
       "      <td>2.6</td>\n",
       "      <td>21.2</td>\n",
       "      <td>10.6</td>\n",
       "    </tr>\n",
       "  </tbody>\n",
       "</table>\n",
       "</div>"
      ],
      "text/plain": [
       "      TV  radio  newspaper  sales\n",
       "0  230.1   37.8       69.2   22.1\n",
       "1   44.5   39.3       45.1   10.4\n",
       "2   17.2   45.9       69.3    9.3\n",
       "3  151.5   41.3       58.5   18.5\n",
       "4  180.8   10.8       58.4   12.9\n",
       "5    8.7   48.9       75.0    7.2\n",
       "6   57.5   32.8       23.5   11.8\n",
       "7  120.2   19.6       11.6   13.2\n",
       "8    8.6    2.1        1.0    4.8\n",
       "9  199.8    2.6       21.2   10.6"
      ]
     },
     "execution_count": 3,
     "metadata": {},
     "output_type": "execute_result"
    }
   ],
   "source": [
    "df.head(10)"
   ]
  },
  {
   "cell_type": "code",
   "execution_count": 4,
   "id": "72f79b3f",
   "metadata": {},
   "outputs": [
    {
     "data": {
      "text/html": [
       "<div>\n",
       "<style scoped>\n",
       "    .dataframe tbody tr th:only-of-type {\n",
       "        vertical-align: middle;\n",
       "    }\n",
       "\n",
       "    .dataframe tbody tr th {\n",
       "        vertical-align: top;\n",
       "    }\n",
       "\n",
       "    .dataframe thead th {\n",
       "        text-align: right;\n",
       "    }\n",
       "</style>\n",
       "<table border=\"1\" class=\"dataframe\">\n",
       "  <thead>\n",
       "    <tr style=\"text-align: right;\">\n",
       "      <th></th>\n",
       "      <th>TV</th>\n",
       "      <th>radio</th>\n",
       "      <th>newspaper</th>\n",
       "      <th>sales</th>\n",
       "    </tr>\n",
       "  </thead>\n",
       "  <tbody>\n",
       "    <tr>\n",
       "      <th>195</th>\n",
       "      <td>38.2</td>\n",
       "      <td>3.7</td>\n",
       "      <td>13.8</td>\n",
       "      <td>7.6</td>\n",
       "    </tr>\n",
       "    <tr>\n",
       "      <th>196</th>\n",
       "      <td>94.2</td>\n",
       "      <td>4.9</td>\n",
       "      <td>8.1</td>\n",
       "      <td>9.7</td>\n",
       "    </tr>\n",
       "    <tr>\n",
       "      <th>197</th>\n",
       "      <td>177.0</td>\n",
       "      <td>9.3</td>\n",
       "      <td>6.4</td>\n",
       "      <td>12.8</td>\n",
       "    </tr>\n",
       "    <tr>\n",
       "      <th>198</th>\n",
       "      <td>283.6</td>\n",
       "      <td>42.0</td>\n",
       "      <td>66.2</td>\n",
       "      <td>25.5</td>\n",
       "    </tr>\n",
       "    <tr>\n",
       "      <th>199</th>\n",
       "      <td>232.1</td>\n",
       "      <td>8.6</td>\n",
       "      <td>8.7</td>\n",
       "      <td>13.4</td>\n",
       "    </tr>\n",
       "  </tbody>\n",
       "</table>\n",
       "</div>"
      ],
      "text/plain": [
       "        TV  radio  newspaper  sales\n",
       "195   38.2    3.7       13.8    7.6\n",
       "196   94.2    4.9        8.1    9.7\n",
       "197  177.0    9.3        6.4   12.8\n",
       "198  283.6   42.0       66.2   25.5\n",
       "199  232.1    8.6        8.7   13.4"
      ]
     },
     "execution_count": 4,
     "metadata": {},
     "output_type": "execute_result"
    }
   ],
   "source": [
    "df.tail()"
   ]
  },
  {
   "cell_type": "code",
   "execution_count": 5,
   "id": "92c1ee40",
   "metadata": {},
   "outputs": [
    {
     "data": {
      "text/html": [
       "<div>\n",
       "<style scoped>\n",
       "    .dataframe tbody tr th:only-of-type {\n",
       "        vertical-align: middle;\n",
       "    }\n",
       "\n",
       "    .dataframe tbody tr th {\n",
       "        vertical-align: top;\n",
       "    }\n",
       "\n",
       "    .dataframe thead th {\n",
       "        text-align: right;\n",
       "    }\n",
       "</style>\n",
       "<table border=\"1\" class=\"dataframe\">\n",
       "  <thead>\n",
       "    <tr style=\"text-align: right;\">\n",
       "      <th></th>\n",
       "      <th>TV</th>\n",
       "      <th>radio</th>\n",
       "      <th>newspaper</th>\n",
       "      <th>sales</th>\n",
       "    </tr>\n",
       "  </thead>\n",
       "  <tbody>\n",
       "    <tr>\n",
       "      <th>196</th>\n",
       "      <td>94.2</td>\n",
       "      <td>4.9</td>\n",
       "      <td>8.1</td>\n",
       "      <td>9.7</td>\n",
       "    </tr>\n",
       "    <tr>\n",
       "      <th>144</th>\n",
       "      <td>96.2</td>\n",
       "      <td>14.8</td>\n",
       "      <td>38.9</td>\n",
       "      <td>11.4</td>\n",
       "    </tr>\n",
       "    <tr>\n",
       "      <th>95</th>\n",
       "      <td>163.3</td>\n",
       "      <td>31.6</td>\n",
       "      <td>52.9</td>\n",
       "      <td>16.9</td>\n",
       "    </tr>\n",
       "    <tr>\n",
       "      <th>146</th>\n",
       "      <td>240.1</td>\n",
       "      <td>7.3</td>\n",
       "      <td>8.7</td>\n",
       "      <td>13.2</td>\n",
       "    </tr>\n",
       "    <tr>\n",
       "      <th>48</th>\n",
       "      <td>227.2</td>\n",
       "      <td>15.8</td>\n",
       "      <td>49.9</td>\n",
       "      <td>14.8</td>\n",
       "    </tr>\n",
       "    <tr>\n",
       "      <th>67</th>\n",
       "      <td>139.3</td>\n",
       "      <td>14.5</td>\n",
       "      <td>10.2</td>\n",
       "      <td>13.4</td>\n",
       "    </tr>\n",
       "    <tr>\n",
       "      <th>199</th>\n",
       "      <td>232.1</td>\n",
       "      <td>8.6</td>\n",
       "      <td>8.7</td>\n",
       "      <td>13.4</td>\n",
       "    </tr>\n",
       "    <tr>\n",
       "      <th>106</th>\n",
       "      <td>25.0</td>\n",
       "      <td>11.0</td>\n",
       "      <td>29.7</td>\n",
       "      <td>7.2</td>\n",
       "    </tr>\n",
       "    <tr>\n",
       "      <th>24</th>\n",
       "      <td>62.3</td>\n",
       "      <td>12.6</td>\n",
       "      <td>18.3</td>\n",
       "      <td>9.7</td>\n",
       "    </tr>\n",
       "    <tr>\n",
       "      <th>65</th>\n",
       "      <td>69.0</td>\n",
       "      <td>9.3</td>\n",
       "      <td>0.9</td>\n",
       "      <td>9.3</td>\n",
       "    </tr>\n",
       "  </tbody>\n",
       "</table>\n",
       "</div>"
      ],
      "text/plain": [
       "        TV  radio  newspaper  sales\n",
       "196   94.2    4.9        8.1    9.7\n",
       "144   96.2   14.8       38.9   11.4\n",
       "95   163.3   31.6       52.9   16.9\n",
       "146  240.1    7.3        8.7   13.2\n",
       "48   227.2   15.8       49.9   14.8\n",
       "67   139.3   14.5       10.2   13.4\n",
       "199  232.1    8.6        8.7   13.4\n",
       "106   25.0   11.0       29.7    7.2\n",
       "24    62.3   12.6       18.3    9.7\n",
       "65    69.0    9.3        0.9    9.3"
      ]
     },
     "execution_count": 5,
     "metadata": {},
     "output_type": "execute_result"
    }
   ],
   "source": [
    "df.sample(10)"
   ]
  },
  {
   "cell_type": "code",
   "execution_count": 6,
   "id": "b28f2575",
   "metadata": {},
   "outputs": [
    {
     "data": {
      "text/plain": [
       "(200, 4)"
      ]
     },
     "execution_count": 6,
     "metadata": {},
     "output_type": "execute_result"
    }
   ],
   "source": [
    "# shape of data\n",
    "df.shape"
   ]
  },
  {
   "cell_type": "code",
   "execution_count": 7,
   "id": "fdece09d",
   "metadata": {},
   "outputs": [
    {
     "name": "stdout",
     "output_type": "stream",
     "text": [
      "<class 'pandas.core.frame.DataFrame'>\n",
      "RangeIndex: 200 entries, 0 to 199\n",
      "Data columns (total 4 columns):\n",
      " #   Column     Non-Null Count  Dtype  \n",
      "---  ------     --------------  -----  \n",
      " 0   TV         200 non-null    float64\n",
      " 1   radio      200 non-null    float64\n",
      " 2   newspaper  200 non-null    float64\n",
      " 3   sales      200 non-null    float64\n",
      "dtypes: float64(4)\n",
      "memory usage: 6.4 KB\n"
     ]
    }
   ],
   "source": [
    "# look at info\n",
    "df.info()"
   ]
  },
  {
   "cell_type": "code",
   "execution_count": 8,
   "id": "31595c6f",
   "metadata": {},
   "outputs": [
    {
     "data": {
      "text/html": [
       "<div>\n",
       "<style scoped>\n",
       "    .dataframe tbody tr th:only-of-type {\n",
       "        vertical-align: middle;\n",
       "    }\n",
       "\n",
       "    .dataframe tbody tr th {\n",
       "        vertical-align: top;\n",
       "    }\n",
       "\n",
       "    .dataframe thead th {\n",
       "        text-align: right;\n",
       "    }\n",
       "</style>\n",
       "<table border=\"1\" class=\"dataframe\">\n",
       "  <thead>\n",
       "    <tr style=\"text-align: right;\">\n",
       "      <th></th>\n",
       "      <th>TV</th>\n",
       "      <th>radio</th>\n",
       "      <th>newspaper</th>\n",
       "      <th>sales</th>\n",
       "    </tr>\n",
       "  </thead>\n",
       "  <tbody>\n",
       "    <tr>\n",
       "      <th>count</th>\n",
       "      <td>200.000000</td>\n",
       "      <td>200.000000</td>\n",
       "      <td>200.000000</td>\n",
       "      <td>200.000000</td>\n",
       "    </tr>\n",
       "    <tr>\n",
       "      <th>mean</th>\n",
       "      <td>147.042500</td>\n",
       "      <td>23.264000</td>\n",
       "      <td>30.554000</td>\n",
       "      <td>14.022500</td>\n",
       "    </tr>\n",
       "    <tr>\n",
       "      <th>std</th>\n",
       "      <td>85.854236</td>\n",
       "      <td>14.846809</td>\n",
       "      <td>21.778621</td>\n",
       "      <td>5.217457</td>\n",
       "    </tr>\n",
       "    <tr>\n",
       "      <th>min</th>\n",
       "      <td>0.700000</td>\n",
       "      <td>0.000000</td>\n",
       "      <td>0.300000</td>\n",
       "      <td>1.600000</td>\n",
       "    </tr>\n",
       "    <tr>\n",
       "      <th>25%</th>\n",
       "      <td>74.375000</td>\n",
       "      <td>9.975000</td>\n",
       "      <td>12.750000</td>\n",
       "      <td>10.375000</td>\n",
       "    </tr>\n",
       "    <tr>\n",
       "      <th>50%</th>\n",
       "      <td>149.750000</td>\n",
       "      <td>22.900000</td>\n",
       "      <td>25.750000</td>\n",
       "      <td>12.900000</td>\n",
       "    </tr>\n",
       "    <tr>\n",
       "      <th>75%</th>\n",
       "      <td>218.825000</td>\n",
       "      <td>36.525000</td>\n",
       "      <td>45.100000</td>\n",
       "      <td>17.400000</td>\n",
       "    </tr>\n",
       "    <tr>\n",
       "      <th>max</th>\n",
       "      <td>296.400000</td>\n",
       "      <td>49.600000</td>\n",
       "      <td>114.000000</td>\n",
       "      <td>27.000000</td>\n",
       "    </tr>\n",
       "  </tbody>\n",
       "</table>\n",
       "</div>"
      ],
      "text/plain": [
       "               TV       radio   newspaper       sales\n",
       "count  200.000000  200.000000  200.000000  200.000000\n",
       "mean   147.042500   23.264000   30.554000   14.022500\n",
       "std     85.854236   14.846809   21.778621    5.217457\n",
       "min      0.700000    0.000000    0.300000    1.600000\n",
       "25%     74.375000    9.975000   12.750000   10.375000\n",
       "50%    149.750000   22.900000   25.750000   12.900000\n",
       "75%    218.825000   36.525000   45.100000   17.400000\n",
       "max    296.400000   49.600000  114.000000   27.000000"
      ]
     },
     "execution_count": 8,
     "metadata": {},
     "output_type": "execute_result"
    }
   ],
   "source": [
    "# describe data\n",
    "df.describe()"
   ]
  },
  {
   "cell_type": "code",
   "execution_count": 9,
   "id": "d12e52ef",
   "metadata": {},
   "outputs": [
    {
     "data": {
      "image/png": "[encoded data removed]",
      "text/plain": [
       "<Figure size 640x480 with 1 Axes>"
      ]
     },
     "metadata": {},
     "output_type": "display_data"
    }
   ],
   "source": [
    "# plot TV histogram using matplotlib\n",
    "plt.hist(df['TV']);"
   ]
  },
  {
   "cell_type": "code",
   "execution_count": 10,
   "id": "ddf68043",
   "metadata": {},
   "outputs": [
    {
     "data": {
      "image/png": "[encoded data removed]",
      "text/plain": [
       "<Figure size 640x480 with 1 Axes>"
      ]
     },
     "metadata": {},
     "output_type": "display_data"
    }
   ],
   "source": [
    "# plot radio histogram using matplotlib\n",
    "plt.hist(df['radio'], bins=5)\n",
    "plt.xlabel('Amount')\n",
    "plt.ylabel('Quantity')\n",
    "plt.title('Radio Revenue')\n",
    "plt.show();"
   ]
  },
  {
   "cell_type": "code",
   "execution_count": 11,
   "id": "c610a0b3",
   "metadata": {},
   "outputs": [
    {
     "data": {
      "image/png": "[encoded data removed]",
      "text/plain": [
       "<Figure size 640x480 with 3 Axes>"
      ]
     },
     "metadata": {},
     "output_type": "display_data"
    }
   ],
   "source": [
    "# using subplots using matplotlib https://matplotlib.org/stable/gallery/statistics/hist.html\n",
    "fig, axs = plt.subplots(1, 3, sharey=False, tight_layout=True)\n",
    "axs[0].hist(df['TV'])\n",
    "axs[0].set_xlabel('TV')\n",
    "\n",
    "axs[1].hist(df['radio'])\n",
    "axs[1].set_xlabel('radio')\n",
    "\n",
    "axs[2].hist(df['newspaper'])\n",
    "axs[2].set_xlabel('newspaper')\n",
    "\n",
    "plt.show();"
   ]
  },
  {
   "cell_type": "code",
   "execution_count": 12,
   "id": "94acbf3e",
   "metadata": {},
   "outputs": [
    {
     "data": {
      "image/png": "[encoded data removed]",
      "text/plain": [
       "<Figure size 640x480 with 4 Axes>"
      ]
     },
     "metadata": {},
     "output_type": "display_data"
    }
   ],
   "source": [
    "# using pandas and matplotlib\n",
    "df.hist()\n",
    "plt.tight_layout()"
   ]
  },
  {
   "cell_type": "code",
   "execution_count": 13,
   "id": "c9bacb5c",
   "metadata": {},
   "outputs": [
    {
     "data": {
      "image/png": "[encoded data removed]",
      "text/plain": [
       "<Figure size 1200x500 with 3 Axes>"
      ]
     },
     "metadata": {},
     "output_type": "display_data"
    }
   ],
   "source": [
    "# scatterplot example with seaborn (sns)\n",
    "sns.pairplot(df, x_vars=['TV','radio','newspaper'], y_vars='sales', \n",
    "             kind='reg', \n",
    "             height=5,\n",
    "             aspect=0.8, \n",
    "             plot_kws={'line_kws':{'color':'red'}, 'scatter_kws': {'alpha': 0.2}});"
   ]
  },
  {
   "cell_type": "code",
   "execution_count": 14,
   "id": "c6532dbd",
   "metadata": {},
   "outputs": [
    {
     "name": "stdout",
     "output_type": "stream",
     "text": [
      "(160, 3)\n",
      "(160,)\n"
     ]
    }
   ],
   "source": [
    "# train test split\n",
    "X_train, X_test, y_train, y_test = train_test_split(df.drop(['sales'], axis=1), \n",
    "                                                    df['sales'], \n",
    "                                                    test_size=0.20, \n",
    "                                                    random_state=42)\n",
    "print(X_train.shape)\n",
    "print(y_train.shape)"
   ]
  },
  {
   "cell_type": "code",
   "execution_count": 15,
   "id": "5dfdc477",
   "metadata": {},
   "outputs": [
    {
     "name": "stdout",
     "output_type": "stream",
     "text": [
      "MSE: 3.174097353976105\n",
      "R-Squared: 0.899438024100912\n"
     ]
    }
   ],
   "source": [
    "# build, train (fit), predict, evaluate the model\n",
    "model = LinearRegression()\n",
    "model.fit(X_train.values, y_train)\n",
    "predictions = model.predict(X_test.values)\n",
    "print(f'MSE: {mean_squared_error(y_true=y_test, y_pred=predictions)}')\n",
    "print(f'R-Squared: {r2_score(y_test, predictions)}')"
   ]
  },
  {
   "cell_type": "code",
   "execution_count": 16,
   "id": "96c65d48",
   "metadata": {},
   "outputs": [
    {
     "data": {
      "text/plain": [
       "array([15.0118875])"
      ]
     },
     "execution_count": 16,
     "metadata": {},
     "output_type": "execute_result"
    }
   ],
   "source": [
    "# make a prediction\n",
    "tv = 232.1\n",
    "radio = 8.6\n",
    "newspaper = 8.7\n",
    "model.predict(np.array([tv, radio, newspaper]).reshape(1, -1))"
   ]
  },
  {
   "cell_type": "code",
   "execution_count": 17,
   "id": "9a5a8cf5",
   "metadata": {},
   "outputs": [
    {
     "data": {
      "text/plain": [
       "[('TV', 0.044729517468716326),\n",
       " ('radio', 0.18919505423437655),\n",
       " ('newspaper', 0.0027611143413671896)]"
      ]
     },
     "execution_count": 17,
     "metadata": {},
     "output_type": "execute_result"
    }
   ],
   "source": [
    "# what are our coefficients?\n",
    "# what are our coefficients?\n",
    "list(zip(X_train, model.coef_))"
   ]
  },
  {
   "cell_type": "markdown",
   "id": "4ab3c041",
   "metadata": {},
   "source": [
    "## Python and Libraries / Modules\n",
    "\n",
    "### Python"
   ]
  },
  {
   "cell_type": "code",
   "execution_count": 18,
   "id": "d73127aa",
   "metadata": {},
   "outputs": [
    {
     "name": "stdout",
     "output_type": "stream",
     "text": [
      "12\n",
      "3\n",
      "[1, 2, 'hello', 3, 'there']\n",
      "(1, 2, 'hello', 3, 'there')\n",
      "{1, 2, 3, 4}\n",
      "{'one': 1, 'two': 2, 'three': 3}\n",
      "1\n"
     ]
    }
   ],
   "source": [
    "# python examples\n",
    "# string\n",
    "print('1' + '2')\n",
    "# number\n",
    "print(1 + 2)\n",
    "# list (mutable)\n",
    "l = [1, 2, 'hello', 3, 'there']\n",
    "print(l)\n",
    "l[4] = 'world'\n",
    "# tuple (immutable)\n",
    "t = (1, 2, 'hello', 3, 'there')\n",
    "print(t)\n",
    "# t[4] = 'world'\n",
    "# set\n",
    "print({1, 2, 3, 3, 4})\n",
    "# dictionary\n",
    "d = {'one': 1, 'two': 2, 'three': 3}\n",
    "print(d)\n",
    "print(d['one'])\n"
   ]
  },
  {
   "cell_type": "markdown",
   "id": "7c0544a9",
   "metadata": {},
   "source": [
    "### Numpy"
   ]
  },
  {
   "cell_type": "code",
   "execution_count": 19,
   "id": "a0247b05",
   "metadata": {},
   "outputs": [
    {
     "name": "stdout",
     "output_type": "stream",
     "text": [
      "0.3091948327682188\n",
      "9\n",
      "[[0 7 9 2 9]\n",
      " [3 9 8 1 0]\n",
      " [6 7 5 3 1]\n",
      " [4 2 5 8 0]\n",
      " [0 2 0 8 8]]\n",
      "[[0 7 9 2 9]]\n"
     ]
    }
   ],
   "source": [
    "# numpy examples\n",
    "# https://www.learndatasci.com/tutorials/applied-introduction-to-numpy-python-tutorial/\n",
    "print(np.random.rand())\n",
    "print(np.random.randint(10))\n",
    "mat = np.random.randint(10, size=(5, 5))\n",
    "print(mat)\n",
    "print(mat[0:1])"
   ]
  },
  {
   "cell_type": "code",
   "execution_count": 20,
   "id": "8b05c005",
   "metadata": {},
   "outputs": [
    {
     "name": "stdout",
     "output_type": "stream",
     "text": [
      "[[2]\n",
      " [1]\n",
      " [3]]\n",
      "[[2 9]\n",
      " [1 0]\n",
      " [3 1]]\n"
     ]
    }
   ],
   "source": [
    "print(mat[0:3,3:4])\n",
    "print(mat[0:3,3:])"
   ]
  },
  {
   "cell_type": "markdown",
   "id": "89cb7d97",
   "metadata": {},
   "source": [
    "### Pandas"
   ]
  },
  {
   "cell_type": "code",
   "execution_count": 21,
   "id": "c9d79042",
   "metadata": {},
   "outputs": [],
   "source": [
    "# pandas examples\n",
    "# https://pandas.pydata.org/docs/user_guide/10min.html"
   ]
  },
  {
   "cell_type": "code",
   "execution_count": 22,
   "id": "ba7a41d9",
   "metadata": {},
   "outputs": [
    {
     "name": "stdout",
     "output_type": "stream",
     "text": [
      "   0  1  2  3  4\n",
      "0  0  7  9  2  9\n",
      "1  3  9  8  1  0\n",
      "2  6  7  5  3  1\n",
      "3  4  2  5  8  0\n",
      "4  0  2  0  8  8\n"
     ]
    }
   ],
   "source": [
    "print(pd.DataFrame(mat))"
   ]
  },
  {
   "cell_type": "code",
   "execution_count": 23,
   "id": "44df17e2",
   "metadata": {},
   "outputs": [
    {
     "name": "stdout",
     "output_type": "stream",
     "text": [
      "   one  two  three  four  five\n",
      "0    0    7      9     2     9\n",
      "1    3    9      8     1     0\n",
      "2    6    7      5     3     1\n",
      "3    4    2      5     8     0\n",
      "4    0    2      0     8     8\n"
     ]
    }
   ],
   "source": [
    "ex = pd.DataFrame(mat, columns=['one', 'two', 'three', 'four', 'five'])\n",
    "print(ex)"
   ]
  },
  {
   "cell_type": "code",
   "execution_count": 24,
   "id": "452adc09",
   "metadata": {},
   "outputs": [
    {
     "name": "stdout",
     "output_type": "stream",
     "text": [
      "0    0\n",
      "1    3\n",
      "2    6\n",
      "3    4\n",
      "4    0\n",
      "Name: one, dtype: int32\n"
     ]
    }
   ],
   "source": [
    "print(ex['one'])"
   ]
  },
  {
   "cell_type": "code",
   "execution_count": 25,
   "id": "7b92d4db",
   "metadata": {},
   "outputs": [
    {
     "name": "stdout",
     "output_type": "stream",
     "text": [
      "0    0\n",
      "1    3\n",
      "2    6\n",
      "3    4\n",
      "4    0\n",
      "Name: one, dtype: int32\n"
     ]
    }
   ],
   "source": [
    "print(ex.one)"
   ]
  },
  {
   "cell_type": "code",
   "execution_count": 26,
   "id": "04e03740",
   "metadata": {},
   "outputs": [
    {
     "name": "stdout",
     "output_type": "stream",
     "text": [
      "one      3\n",
      "two      9\n",
      "three    8\n",
      "four     1\n",
      "five     0\n",
      "Name: 1, dtype: int32\n"
     ]
    }
   ],
   "source": [
    "print(ex.loc[1])"
   ]
  },
  {
   "cell_type": "code",
   "execution_count": 27,
   "id": "ec0e07e8",
   "metadata": {
    "scrolled": false
   },
   "outputs": [
    {
     "name": "stdout",
     "output_type": "stream",
     "text": [
      "   four  five\n",
      "0     2     9\n",
      "1     1     0\n"
     ]
    }
   ],
   "source": [
    "print(ex.iloc[0:2,3:5])"
   ]
  }
 ],
 "metadata": {
  "kernelspec": {
   "display_name": "Python 3 (ipykernel)",
   "language": "python",
   "name": "python3"
  },
  "language_info": {
   "codemirror_mode": {
    "name": "ipython",
    "version": 3
   },
   "file_extension": ".py",
   "mimetype": "text/x-python",
   "name": "python",
   "nbconvert_exporter": "python",
   "pygments_lexer": "ipython3",
   "version": "3.9.7"
  }
 },
 "nbformat": 4,
 "nbformat_minor": 5
}
