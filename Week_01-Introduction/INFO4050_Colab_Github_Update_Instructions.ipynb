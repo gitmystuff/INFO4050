{
 "cells": [
  {
   "cell_type": "markdown",
   "metadata": {
    "id": "P-3qSQOJyZ-f"
   },
   "source": [
    "### INFO4050 Colab Github Update Instructions\n",
    "\n",
    "**Use this file to update class content to your Google Drive**"
   ]
  },
  {
   "cell_type": "code",
   "execution_count": null,
   "metadata": {
    "colab": {
     "base_uri": "https://localhost:8080/",
     "height": 70
    },
    "id": "ak_wlbhWxRz7",
    "outputId": "417f4c29-6104-46ff-f6e4-f462afacebdb"
   },
   "outputs": [],
   "source": [
    "from google.colab import drive\n",
    "\n",
    "drive.mount('/content/drive')\n",
    "%cd /content/drive/MyDrive/INFO4050/\n",
    "%pwd\n"
   ]
  },
  {
   "cell_type": "code",
   "execution_count": null,
   "metadata": {
    "colab": {
     "base_uri": "https://localhost:8080/"
    },
    "id": "AulWJThvxZKj",
    "outputId": "cb5f97e9-52c6-44be-e61e-51451876ef9d"
   },
   "outputs": [],
   "source": [
    "!git status"
   ]
  },
  {
   "cell_type": "code",
   "execution_count": null,
   "metadata": {},
   "outputs": [],
   "source": [
    "# tell git who you are; needed once a session; replace email_name and User Name with yours\n",
    "!git config --global user.email \"email_name@gmail.com\"\n",
    "!git config --global user.name \"User Name\""
   ]
  },
  {
   "cell_type": "code",
   "execution_count": null,
   "metadata": {
    "colab": {
     "base_uri": "https://localhost:8080/"
    },
    "id": "LOnBVFUGcpgP",
    "outputId": "b6ec3d2c-557a-48d8-cc53-39a71cbc3e69"
   },
   "outputs": [],
   "source": [
    "!git commit -a -m \"Work completed for week ???\""
   ]
  },
  {
   "cell_type": "code",
   "execution_count": null,
   "metadata": {
    "colab": {
     "base_uri": "https://localhost:8080/"
    },
    "id": "t1zvv5YncuvL",
    "outputId": "9762aa36-9518-4523-af89-bc1a9252c50a"
   },
   "outputs": [],
   "source": [
    "!git fetch"
   ]
  }
 ],
 "metadata": {
  "colab": {
   "provenance": []
  },
  "kernelspec": {
   "display_name": "Python 3 (ipykernel)",
   "language": "python",
   "name": "python3"
  },
  "language_info": {
   "codemirror_mode": {
    "name": "ipython",
    "version": 3
   },
   "file_extension": ".py",
   "mimetype": "text/x-python",
   "name": "python",
   "nbconvert_exporter": "python",
   "pygments_lexer": "ipython3",
   "version": "3.9.7"
  }
 },
 "nbformat": 4,
 "nbformat_minor": 1
}
