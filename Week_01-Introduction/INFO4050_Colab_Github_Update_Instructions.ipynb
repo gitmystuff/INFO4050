{
 "cells": [
  {
   "cell_type": "markdown",
   "metadata": {
    "id": "P-3qSQOJyZ-f"
   },
   "source": [
    "### INFO4050 Colab Github Update Instructions\n",
    "\n",
    "**Use this file to update class content to your Google Drive**"
   ]
  },
  {
   "cell_type": "code",
   "execution_count": 1,
   "metadata": {
    "colab": {
     "base_uri": "https://localhost:8080/",
     "height": 70
    },
    "id": "ak_wlbhWxRz7",
    "outputId": "417f4c29-6104-46ff-f6e4-f462afacebdb"
   },
   "outputs": [
    {
     "name": "stdout",
     "output_type": "stream",
     "text": [
      "Mounted at /content/drive\n",
      "/content/drive/MyDrive/INFO4050\n"
     ]
    },
    {
     "data": {
      "application/vnd.google.colaboratory.intrinsic+json": {
       "type": "string"
      },
      "text/plain": [
       "'/content/drive/MyDrive/INFO4050'"
      ]
     },
     "execution_count": 1,
     "metadata": {},
     "output_type": "execute_result"
    }
   ],
   "source": [
    "from google.colab import drive\n",
    "\n",
    "drive.mount('/content/drive')\n",
    "%cd /content/drive/MyDrive/INFO4050/\n",
    "%pwd\n"
   ]
  },
  {
   "cell_type": "code",
   "execution_count": 2,
   "metadata": {
    "colab": {
     "base_uri": "https://localhost:8080/"
    },
    "id": "AulWJThvxZKj",
    "outputId": "cb5f97e9-52c6-44be-e61e-51451876ef9d"
   },
   "outputs": [
    {
     "name": "stdout",
     "output_type": "stream",
     "text": [
      "On branch main\n",
      "Your branch is up to date with 'origin/main'.\n",
      "\n",
      "nothing to commit, working tree clean\n"
     ]
    }
   ],
   "source": [
    "!git status\n"
   ]
  },
  {
   "cell_type": "code",
   "execution_count": 6,
   "metadata": {
    "colab": {
     "base_uri": "https://localhost:8080/"
    },
    "id": "LOnBVFUGcpgP",
    "outputId": "b6ec3d2c-557a-48d8-cc53-39a71cbc3e69"
   },
   "outputs": [
    {
     "name": "stdout",
     "output_type": "stream",
     "text": [
      "On branch main\n",
      "Your branch is up to date with 'origin/main'.\n",
      "\n",
      "nothing to commit, working tree clean\n"
     ]
    }
   ],
   "source": [
    "!git commit -a -m \"Work completed for week ???\""
   ]
  },
  {
   "cell_type": "code",
   "execution_count": 7,
   "metadata": {
    "colab": {
     "base_uri": "https://localhost:8080/"
    },
    "id": "t1zvv5YncuvL",
    "outputId": "9762aa36-9518-4523-af89-bc1a9252c50a"
   },
   "outputs": [
    {
     "name": "stdout",
     "output_type": "stream",
     "text": [
      "remote: Enumerating objects: 5, done.\u001b[K\n",
      "remote: Counting objects:  20% (1/5)\u001b[K\r",
      "remote: Counting objects:  40% (2/5)\u001b[K\r",
      "remote: Counting objects:  60% (3/5)\u001b[K\r",
      "remote: Counting objects:  80% (4/5)\u001b[K\r",
      "remote: Counting objects: 100% (5/5)\u001b[K\r",
      "remote: Counting objects: 100% (5/5), done.\u001b[K\n",
      "remote: Compressing objects:  50% (1/2)\u001b[K\r",
      "remote: Compressing objects: 100% (2/2)\u001b[K\r",
      "remote: Compressing objects: 100% (2/2), done.\u001b[K\n",
      "remote: Total 4 (delta 1), reused 0 (delta 0), pack-reused 0\u001b[K\n",
      "Unpacking objects:  25% (1/4)   \r",
      "Unpacking objects:  50% (2/4)   \r",
      "Unpacking objects:  75% (3/4)   \r",
      "Unpacking objects: 100% (4/4)   \r",
      "Unpacking objects: 100% (4/4), done.\n",
      "From https://github.com/gitmystuff/INFO4050\n",
      "   cc8dcb6..ace5011  main       -> origin/main\n",
      "Updating cc8dcb6..ace5011\n",
      "Fast-forward\n",
      " Week_01-Introduction/README.md | 1 \u001b[32m+\u001b[m\n",
      " 1 file changed, 1 insertion(+)\n",
      " create mode 100644 Week_01-Introduction/README.md\n"
     ]
    }
   ],
   "source": [
    "!git pull"
   ]
  }
 ],
 "metadata": {
  "colab": {
   "provenance": []
  },
  "kernelspec": {
   "display_name": "Python 3 (ipykernel)",
   "language": "python",
   "name": "python3"
  },
  "language_info": {
   "codemirror_mode": {
    "name": "ipython",
    "version": 3
   },
   "file_extension": ".py",
   "mimetype": "text/x-python",
   "name": "python",
   "nbconvert_exporter": "python",
   "pygments_lexer": "ipython3",
   "version": "3.9.7"
  }
 },
 "nbformat": 4,
 "nbformat_minor": 1
}
