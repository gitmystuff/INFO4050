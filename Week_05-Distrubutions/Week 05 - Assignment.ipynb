{
 "cells": [
  {
   "cell_type": "markdown",
   "id": "69574c84",
   "metadata": {},
   "source": [
    "# Week 05 - Assignment\n"
   ]
  },
  {
   "cell_type": "markdown",
   "id": "a595f517",
   "metadata": {},
   "source": [
    "## Compliment\n",
    "\n",
    "Compliment of $A$ is $\\bar{A}$\n",
    "\n",
    "Is the compliment of A mutually exclusive with A?"
   ]
  },
  {
   "cell_type": "markdown",
   "id": "89fa6789",
   "metadata": {},
   "source": [
    "## Conditional probability\n",
    "\n",
    "https://towardsdatascience.com/conditional-probability-with-a-python-example-fd6f5937cd2<br />\n",
    "https://towardsdatascience.com/conditional-probability-with-python-concepts-tables-code-c23ffe65d110<br />\n",
    "\n",
    "$P(A|B) = \\frac{P(A \\cap B)}{P(B)}$<br />\n",
    "\n",
    "What's the probability of something given something else\n",
    "\n",
    "Terms\n",
    "* $P(A|B)$: Probability of A given B\n",
    "* $P(A \\cap B)$: Probability of A and B\n",
    "* $P(B)$: Probability of B"
   ]
  },
  {
   "cell_type": "markdown",
   "id": "a6bdd5ea",
   "metadata": {},
   "source": [
    "### Addition and Multiplication Rules\n",
    "\n",
    "* Addition Rule: $P(A \\cup B) = P(A) + P(B) - P(A \\cap B)$\n",
    "* Multiplication Rule: $P(A \\cap B) = P(A) * P(B|A)$<br />"
   ]
  },
  {
   "cell_type": "markdown",
   "id": "03c7d19b",
   "metadata": {},
   "source": [
    "## Bayes’ Theorem (Week 10)\n",
    "\n",
    "$P(A|B) = \\frac{P(B|A) P(A)}{P(B)}$<br />\n",
    "$P(B) = (P(A) * P(B|A)) + (P(\\bar{A}) * P(B|\\bar{A}))$\n",
    "\n",
    "Recall dependent intersection and multiplication rule:<br />\n",
    "$P(A \\cap B) = P(A) * P(B|A)$"
   ]
  },
  {
   "cell_type": "markdown",
   "id": "8f861920",
   "metadata": {},
   "source": [
    "## Conditional Probability Problems\n",
    "\n",
    "### Problem 1\n",
    "\n",
    "It has started raining. It rains 10% of the time. We know that flooding can happen when it rains but it is rare. Flooding happnes 1% of the time. 90% of the time it floods we see rain. What's the probability of a flood given rain?<br />\n",
    "\n",
    "Review the equation (What's the question):\n",
    "* P(A|B) = (P(A)P(B|A)) / P(B)\n",
    "* P(Flood|Rain) = (P(Flood)P(Rain|Flood)) / P(Rain)\n",
    "\n",
    "What we know:\n",
    "* P(A) = P(Flood) = .01\n",
    "* P(B) = P(Rain) = .1 \n",
    "* P(B|A) = P(Rain|Flood) = .9"
   ]
  },
  {
   "cell_type": "code",
   "execution_count": null,
   "id": "aa77e161",
   "metadata": {},
   "outputs": [],
   "source": [
    "# solve for P(A|B); show some work (some formulas or equations)\n"
   ]
  },
  {
   "cell_type": "markdown",
   "id": "dfbf0db9",
   "metadata": {},
   "source": [
    "### Problem 2\n",
    "\n",
    "A company makes clocks. 1% of the clocks are broken. The company tests for broken clocks and the test identifies a broken clock when it is broken 90% of the time. Unfortunately, the test also identifies a broken clock when it is not defective 9.6% of the time. If a clock tests as broken what's the probability that the clock is actually broken?\n",
    "\n",
    "Review the equation (What's the question):\n",
    "* P(A|B) = (P(A)P(B|A)) / P(B) \n",
    "* P(defective widget| test identifies defect) = (P(defective widget) * P(test identifies defect| defected widget)) / P(B)\n",
    "\n",
    "What we know:\n",
    "* $P(A)$ = P(defective widget) = .01\n",
    "* $P(\\bar{A})$ = P(not defective widget) = .99\n",
    "* $P(B|A)$ = P(test identifies defect| defective widget) = .9\n",
    "* $P(B|\\bar{A})$ = P(test identifies defect| not defective widget) = .096\n",
    "\n",
    "Sovlve for P(B):\n",
    "* $P(B) = (P(A) * P(B|A)) + (P(\\bar{A}) * P(B|\\bar{A}))$\n",
    "* P(B) = (P(defective widget) * P(test identifies defect| defected widget)) + (P(not defective widget) * P(test identifies defect| not defected widget))"
   ]
  },
  {
   "cell_type": "code",
   "execution_count": null,
   "id": "98ebae57",
   "metadata": {},
   "outputs": [],
   "source": [
    "# solve for P(A|B); show some work\n"
   ]
  },
  {
   "cell_type": "markdown",
   "id": "1a665b80",
   "metadata": {},
   "source": [
    "### Problem 3\n",
    "\n",
    "One hundred students enrolled in class and the administration had to divide into two classes. 60 students went into class 1 and 40 students went into class 2. We know that 2% of the students in class 1 are failing and 1.5% of the students are failing in class 2. All one hundred students went on a field trip during midterm. One student was randomly chosen and asked how things were going. Turns out this student is failing. What's the probability that this student is from class 1?\n",
    "\n",
    "Review the equation (What's the question):\n",
    "* P(A|B) = (P(A)P(B|A)) / P(B) \n",
    "* $P(B) = (P(A) * P(B|A)) + (P(\\bar{A}) * P(B|\\bar{A}))$\n",
    "\n",
    "What we know:\n",
    "* $P(A)$ = P(students in class 1) = .6\n",
    "* $P(\\bar{A})$ = P(students in class 2) = .4\n",
    "* $P(B)$ = failing\n",
    "* $P(B|A)$ = P(failing|class1) = .02\n",
    "* $P(B|\\bar{A})$ = P(failing|class2) = .015\n"
   ]
  },
  {
   "cell_type": "code",
   "execution_count": null,
   "id": "731bd794",
   "metadata": {},
   "outputs": [],
   "source": [
    "# solve for P(A|B); show some work\n"
   ]
  },
  {
   "cell_type": "markdown",
   "id": "180f9545",
   "metadata": {},
   "source": [
    "### Problem 4\n",
    "\n",
    "A box contains 5 apples and 7 oranges. Two fruit are chosen at random from the box without replacement. What is the probability they are both oranges?"
   ]
  },
  {
   "cell_type": "code",
   "execution_count": null,
   "id": "9165d6da",
   "metadata": {},
   "outputs": [],
   "source": [
    "# solve here and show some work\n"
   ]
  },
  {
   "cell_type": "markdown",
   "id": "a3d04ae4",
   "metadata": {},
   "source": [
    "### Problem 5\n",
    "\n",
    "Two cards are chosen at random without replacement from a pack of 52 playing cards. If the first card chosen is a Queen, what is the probability the second card chosen is also a Queen?"
   ]
  },
  {
   "cell_type": "code",
   "execution_count": null,
   "id": "459ad702",
   "metadata": {},
   "outputs": [],
   "source": [
    "# solve here and show some work\n"
   ]
  },
  {
   "cell_type": "markdown",
   "id": "56fae057",
   "metadata": {},
   "source": [
    "### Problem 6\n",
    "\n",
    "Two cards are chosen at random without replacement from a pack of 52 playing cards. If the first card chosen is an Eight, what is the probability the second card chosen is a Seven?"
   ]
  },
  {
   "cell_type": "code",
   "execution_count": null,
   "id": "1e9da0e0",
   "metadata": {},
   "outputs": [],
   "source": [
    "# sovle here and show some work\n"
   ]
  },
  {
   "cell_type": "markdown",
   "id": "622d50cc",
   "metadata": {},
   "source": [
    "### Problem 7\n",
    "\n",
    "A drawer contains 3 white socks and 4 black socks. Two socks are drawn at random without replacement. If the first sock drawn is black, what is the probability the second sock is also black?"
   ]
  },
  {
   "cell_type": "code",
   "execution_count": null,
   "id": "c42280ed",
   "metadata": {},
   "outputs": [],
   "source": [
    "# solve here and show some work\n"
   ]
  },
  {
   "cell_type": "markdown",
   "id": "42647322",
   "metadata": {},
   "source": [
    "### Problem 8\n",
    "\n",
    "A drawer contains 3 white socks and 4 black socks. Two socks are drawn at random without replacement. If the first sock drawn is white, what is the probability the second sock is black?"
   ]
  },
  {
   "cell_type": "code",
   "execution_count": null,
   "id": "d683d236",
   "metadata": {},
   "outputs": [],
   "source": [
    "# solve here and show some work\n"
   ]
  },
  {
   "cell_type": "markdown",
   "id": "60d45829",
   "metadata": {},
   "source": [
    "## Data Problems\n",
    "\n",
    "The following datasets may or may not have a named dependent variable. Please identify the dependent variable data by name and type (numerical or categorical). If it doesn't have a name, provide a name with an explanation. Datasets may not have a clear answer. Explain your observations.\n",
    "\n",
    "### Problem 1\n",
    "\n",
    "* Given the following dataset, what is the dependent variable, the y? Is it numerical or categorical?\n",
    "* https://archive-beta.ics.uci.edu/dataset/53/iris"
   ]
  },
  {
   "cell_type": "markdown",
   "id": "33fddb60",
   "metadata": {},
   "source": [
    "Answer problem 1 here\n",
    "..."
   ]
  },
  {
   "cell_type": "markdown",
   "id": "719bb1c7",
   "metadata": {},
   "source": [
    "### Problem 2\n",
    "\n",
    "* Given the following dataset, what is the dependent variable, the y? Is it numerical or categorical?\n",
    "* https://archive-beta.ics.uci.edu/dataset/9/auto+mpg"
   ]
  },
  {
   "cell_type": "markdown",
   "id": "836b1706",
   "metadata": {},
   "source": [
    "Answer problem 2 here\n",
    "..."
   ]
  },
  {
   "cell_type": "markdown",
   "id": "506c3804",
   "metadata": {},
   "source": [
    "### Problem 3\n",
    "\n",
    "* Given the following dataset, what is the dependent variable, the y? Is it numerical or categorical?\n",
    "* https://archive-beta.ics.uci.edu/dataset/16/breast+cancer+wisconsin+prognostic"
   ]
  },
  {
   "cell_type": "markdown",
   "id": "fc2ffdcb",
   "metadata": {},
   "source": [
    "Answer for problem 3 here\n",
    "..."
   ]
  },
  {
   "cell_type": "markdown",
   "id": "5eac4845",
   "metadata": {},
   "source": [
    "### Problem 4\n",
    "\n",
    "* Given the following dataset, what is the dependent variable, the y? Is it numerical or categorical?\n",
    "* https://archive-beta.ics.uci.edu/dataset/109/wine"
   ]
  },
  {
   "cell_type": "markdown",
   "id": "95fe37a2",
   "metadata": {},
   "source": [
    "Answer problem 4 here\n",
    "..."
   ]
  },
  {
   "cell_type": "markdown",
   "id": "0e091c70",
   "metadata": {},
   "source": [
    "### Problem 5\n",
    "\n",
    "* Given the following dataset, what is the dependent variable, the y? Is it numerical or categorical?\n",
    "* https://archive-beta.ics.uci.edu/dataset/29/computer+hardware"
   ]
  },
  {
   "cell_type": "markdown",
   "id": "76fc702e",
   "metadata": {},
   "source": [
    "Answer problem 5 here\n",
    "..."
   ]
  },
  {
   "cell_type": "markdown",
   "id": "7a54349c",
   "metadata": {},
   "source": [
    "### Problem 6\n",
    "\n",
    "* Given the following dataset, what is the dependent variable, the y? Is it numerical or categorical?\n",
    "* https://archive-beta.ics.uci.edu/dataset/1/abalone"
   ]
  },
  {
   "cell_type": "markdown",
   "id": "6cf2fb59",
   "metadata": {},
   "source": [
    "Answer problem 6 here\n",
    "..."
   ]
  },
  {
   "cell_type": "markdown",
   "id": "7d0e9895",
   "metadata": {},
   "source": [
    "### Problem 7\n",
    "\n",
    "* Given the following dataset, what is the dependent variable, the y? Is it numerical or categorical?\n",
    "* https://archive-beta.ics.uci.edu/dataset/502/online+retail+ii"
   ]
  },
  {
   "cell_type": "markdown",
   "id": "b21e6741",
   "metadata": {},
   "source": [
    "Answer problem 7 here\n",
    "..."
   ]
  },
  {
   "cell_type": "markdown",
   "id": "afdef528",
   "metadata": {},
   "source": [
    "## Cumulative Density Function, Percent Point Function, and the Binomial Distribution\n",
    "\n",
    "Show and use the stats.norm.cdf and stats.norm.ppf formulas for the following. Round your answers to 2 decimal places.\n",
    "* What is the cdf precentile associated with 2 standard deviations above the mean?\n",
    "* What is the cdf precentile associated with 1 standard deviation below the mean?\n",
    "* What is the z score associated with the 84 percentile?\n",
    "* What is the z score associated with the 2.1 percentile?\n",
    "\n",
    "cdf_val = np.round(stats.norm.cdf(???, loc=0, scale=1), 2)\n",
    "\n",
    "ppf_val = np.round(stats.norm.ppf(???, loc=0, scale=1), 2)\n",
    "\n",
    "Show and use the scipy.stats.binom function to answer the following. Round your answers to 2 decimal places.\n",
    "* A fair coins is flipped 5 times. What is the probability of getting 2 tails?\n",
    "* A fair die is thrown 4 times. What is the probability of getting 2 threes?\n",
    "\n",
    "binom.pmf(k, n, p, loc)"
   ]
  },
  {
   "cell_type": "markdown",
   "id": "cedfba67",
   "metadata": {},
   "source": [
    "### Problem 1"
   ]
  },
  {
   "cell_type": "code",
   "execution_count": 1,
   "id": "14b68950",
   "metadata": {},
   "outputs": [],
   "source": [
    "# What is the cdf precentile associated with 2 standard deviations above the mean?\n",
    "..."
   ]
  },
  {
   "cell_type": "markdown",
   "id": "699b8480",
   "metadata": {},
   "source": [
    "### Problem 2"
   ]
  },
  {
   "cell_type": "code",
   "execution_count": 2,
   "id": "cd487c96",
   "metadata": {},
   "outputs": [],
   "source": [
    "# What is the cdf precentile associated with 1 standard deviation below the mean?\n",
    "..."
   ]
  },
  {
   "cell_type": "markdown",
   "id": "ba9eaeea",
   "metadata": {},
   "source": [
    "### Problem 3"
   ]
  },
  {
   "cell_type": "code",
   "execution_count": 3,
   "id": "a5bb52e4",
   "metadata": {},
   "outputs": [],
   "source": [
    "# What is the z score associated with the 84 percentile?\n",
    "..."
   ]
  },
  {
   "cell_type": "markdown",
   "id": "3d7e3df0",
   "metadata": {},
   "source": [
    "### Problem 4"
   ]
  },
  {
   "cell_type": "code",
   "execution_count": 4,
   "id": "5a8103b3",
   "metadata": {},
   "outputs": [],
   "source": [
    "# What is the z score associated with the 2.1 percentile?\n",
    "..."
   ]
  },
  {
   "cell_type": "markdown",
   "id": "5a6c96ed",
   "metadata": {},
   "source": [
    "### Problem 5"
   ]
  },
  {
   "cell_type": "code",
   "execution_count": 5,
   "id": "e21bf5f6",
   "metadata": {},
   "outputs": [],
   "source": [
    "# A fair coins is flipped 5 times. What is the probability of getting 2 tails?\n",
    "..."
   ]
  },
  {
   "cell_type": "markdown",
   "id": "b2c4f8b5",
   "metadata": {},
   "source": [
    "### Problem 6"
   ]
  },
  {
   "cell_type": "code",
   "execution_count": null,
   "id": "705dd0bc",
   "metadata": {},
   "outputs": [],
   "source": [
    "# A fair die is thrown 4 times. What is the probability of getting 2 threes?\n",
    "..."
   ]
  }
 ],
 "metadata": {
  "kernelspec": {
   "display_name": "Python 3 (ipykernel)",
   "language": "python",
   "name": "python3"
  },
  "language_info": {
   "codemirror_mode": {
    "name": "ipython",
    "version": 3
   },
   "file_extension": ".py",
   "mimetype": "text/x-python",
   "name": "python",
   "nbconvert_exporter": "python",
   "pygments_lexer": "ipython3",
   "version": "3.9.7"
  }
 },
 "nbformat": 4,
 "nbformat_minor": 5
}
